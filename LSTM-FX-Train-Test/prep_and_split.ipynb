{
 "metadata": {
  "language_info": {
   "codemirror_mode": {
    "name": "ipython",
    "version": 3
   },
   "file_extension": ".py",
   "mimetype": "text/x-python",
   "name": "python",
   "nbconvert_exporter": "python",
   "pygments_lexer": "ipython3",
   "version": "3.8.5-final"
  },
  "orig_nbformat": 2,
  "kernelspec": {
   "name": "python_defaultSpec_1600541755698",
   "display_name": "Python 3.8.5 64-bit ('tf': conda)"
  }
 },
 "nbformat": 4,
 "nbformat_minor": 2,
 "cells": [
  {
   "cell_type": "code",
   "execution_count": 1,
   "metadata": {},
   "outputs": [],
   "source": [
    "import pandas as pd\n",
    "import numpy as np\n",
    "from common_variables import *"
   ]
  },
  {
   "cell_type": "code",
   "execution_count": 2,
   "metadata": {
    "tags": []
   },
   "outputs": [
    {
     "output_type": "execute_result",
     "data": {
      "text/plain": "                        High      Low\nDate                                 \n2010-01-01 00:00:00  1.61673  1.61659\n2010-01-01 00:01:00  1.61670  1.61670\n2010-01-01 00:02:00  1.61670  1.61665\n2010-01-01 00:03:00  1.61670  1.61670\n2010-01-01 00:04:00  1.61678  1.61665\n...                      ...      ...\n2020-09-04 20:55:00  1.32792  1.32761\n2020-09-04 20:56:00  1.32822  1.32791\n2020-09-04 20:57:00  1.32817  1.32812\n2020-09-04 20:58:00  1.32817  1.32785\n2020-09-04 20:59:00  1.32794  1.32761\n\n[3992822 rows x 2 columns]",
      "text/html": "<div>\n<style scoped>\n    .dataframe tbody tr th:only-of-type {\n        vertical-align: middle;\n    }\n\n    .dataframe tbody tr th {\n        vertical-align: top;\n    }\n\n    .dataframe thead th {\n        text-align: right;\n    }\n</style>\n<table border=\"1\" class=\"dataframe\">\n  <thead>\n    <tr style=\"text-align: right;\">\n      <th></th>\n      <th>High</th>\n      <th>Low</th>\n    </tr>\n    <tr>\n      <th>Date</th>\n      <th></th>\n      <th></th>\n    </tr>\n  </thead>\n  <tbody>\n    <tr>\n      <th>2010-01-01 00:00:00</th>\n      <td>1.61673</td>\n      <td>1.61659</td>\n    </tr>\n    <tr>\n      <th>2010-01-01 00:01:00</th>\n      <td>1.61670</td>\n      <td>1.61670</td>\n    </tr>\n    <tr>\n      <th>2010-01-01 00:02:00</th>\n      <td>1.61670</td>\n      <td>1.61665</td>\n    </tr>\n    <tr>\n      <th>2010-01-01 00:03:00</th>\n      <td>1.61670</td>\n      <td>1.61670</td>\n    </tr>\n    <tr>\n      <th>2010-01-01 00:04:00</th>\n      <td>1.61678</td>\n      <td>1.61665</td>\n    </tr>\n    <tr>\n      <th>...</th>\n      <td>...</td>\n      <td>...</td>\n    </tr>\n    <tr>\n      <th>2020-09-04 20:55:00</th>\n      <td>1.32792</td>\n      <td>1.32761</td>\n    </tr>\n    <tr>\n      <th>2020-09-04 20:56:00</th>\n      <td>1.32822</td>\n      <td>1.32791</td>\n    </tr>\n    <tr>\n      <th>2020-09-04 20:57:00</th>\n      <td>1.32817</td>\n      <td>1.32812</td>\n    </tr>\n    <tr>\n      <th>2020-09-04 20:58:00</th>\n      <td>1.32817</td>\n      <td>1.32785</td>\n    </tr>\n    <tr>\n      <th>2020-09-04 20:59:00</th>\n      <td>1.32794</td>\n      <td>1.32761</td>\n    </tr>\n  </tbody>\n</table>\n<p>3992822 rows × 2 columns</p>\n</div>"
     },
     "metadata": {},
     "execution_count": 2
    }
   ],
   "source": [
    "df_csv = pd.read_csv(full_time_series_path, usecols=['Date','High','Low'], \n",
    "    index_col=['Date'], parse_dates=['Date'])\n",
    "df = df_csv[df_csv.index >= pd.to_datetime(start_date)]\n",
    "df"
   ]
  },
  {
   "cell_type": "code",
   "execution_count": 3,
   "metadata": {},
   "outputs": [
    {
     "output_type": "execute_result",
     "data": {
      "text/plain": "                        HLAvg        MA   Returns\nDate                                             \n2010-01-01 00:00:00  1.616660       NaN       NaN\n2010-01-01 00:01:00  1.616700       NaN       NaN\n2010-01-01 00:02:00  1.616675       NaN       NaN\n2010-01-01 00:03:00  1.616700       NaN       NaN\n2010-01-01 00:04:00  1.616715       NaN       NaN\n2010-01-01 00:05:00  1.616675       NaN       NaN\n2010-01-01 00:06:00  1.616725       NaN       NaN\n2010-01-01 00:07:00  1.616725       NaN       NaN\n2010-01-01 00:08:00  1.616725       NaN       NaN\n2010-01-01 00:09:00  1.616740       NaN       NaN\n2010-01-01 00:10:00  1.616740       NaN       NaN\n2010-01-01 00:11:00  1.616650       NaN       NaN\n2010-01-01 00:12:00  1.616610       NaN       NaN\n2010-01-01 00:13:00  1.616650  1.616692       NaN\n2010-01-01 00:14:00  1.616700  1.616695  0.000002",
      "text/html": "<div>\n<style scoped>\n    .dataframe tbody tr th:only-of-type {\n        vertical-align: middle;\n    }\n\n    .dataframe tbody tr th {\n        vertical-align: top;\n    }\n\n    .dataframe thead th {\n        text-align: right;\n    }\n</style>\n<table border=\"1\" class=\"dataframe\">\n  <thead>\n    <tr style=\"text-align: right;\">\n      <th></th>\n      <th>HLAvg</th>\n      <th>MA</th>\n      <th>Returns</th>\n    </tr>\n    <tr>\n      <th>Date</th>\n      <th></th>\n      <th></th>\n      <th></th>\n    </tr>\n  </thead>\n  <tbody>\n    <tr>\n      <th>2010-01-01 00:00:00</th>\n      <td>1.616660</td>\n      <td>NaN</td>\n      <td>NaN</td>\n    </tr>\n    <tr>\n      <th>2010-01-01 00:01:00</th>\n      <td>1.616700</td>\n      <td>NaN</td>\n      <td>NaN</td>\n    </tr>\n    <tr>\n      <th>2010-01-01 00:02:00</th>\n      <td>1.616675</td>\n      <td>NaN</td>\n      <td>NaN</td>\n    </tr>\n    <tr>\n      <th>2010-01-01 00:03:00</th>\n      <td>1.616700</td>\n      <td>NaN</td>\n      <td>NaN</td>\n    </tr>\n    <tr>\n      <th>2010-01-01 00:04:00</th>\n      <td>1.616715</td>\n      <td>NaN</td>\n      <td>NaN</td>\n    </tr>\n    <tr>\n      <th>2010-01-01 00:05:00</th>\n      <td>1.616675</td>\n      <td>NaN</td>\n      <td>NaN</td>\n    </tr>\n    <tr>\n      <th>2010-01-01 00:06:00</th>\n      <td>1.616725</td>\n      <td>NaN</td>\n      <td>NaN</td>\n    </tr>\n    <tr>\n      <th>2010-01-01 00:07:00</th>\n      <td>1.616725</td>\n      <td>NaN</td>\n      <td>NaN</td>\n    </tr>\n    <tr>\n      <th>2010-01-01 00:08:00</th>\n      <td>1.616725</td>\n      <td>NaN</td>\n      <td>NaN</td>\n    </tr>\n    <tr>\n      <th>2010-01-01 00:09:00</th>\n      <td>1.616740</td>\n      <td>NaN</td>\n      <td>NaN</td>\n    </tr>\n    <tr>\n      <th>2010-01-01 00:10:00</th>\n      <td>1.616740</td>\n      <td>NaN</td>\n      <td>NaN</td>\n    </tr>\n    <tr>\n      <th>2010-01-01 00:11:00</th>\n      <td>1.616650</td>\n      <td>NaN</td>\n      <td>NaN</td>\n    </tr>\n    <tr>\n      <th>2010-01-01 00:12:00</th>\n      <td>1.616610</td>\n      <td>NaN</td>\n      <td>NaN</td>\n    </tr>\n    <tr>\n      <th>2010-01-01 00:13:00</th>\n      <td>1.616650</td>\n      <td>1.616692</td>\n      <td>NaN</td>\n    </tr>\n    <tr>\n      <th>2010-01-01 00:14:00</th>\n      <td>1.616700</td>\n      <td>1.616695</td>\n      <td>0.000002</td>\n    </tr>\n  </tbody>\n</table>\n</div>"
     },
     "metadata": {},
     "execution_count": 3
    }
   ],
   "source": [
    "df[\"HLAvg\"] = df['High'].add(df['Low']).div(2)\n",
    "del df['High']\n",
    "del df['Low']\n",
    "# Simple Moving Average\n",
    "df['MA'] = df['HLAvg'].rolling(window=ma_periods).mean()\n",
    "# Log Returns\n",
    "df['Returns'] = np.log(df['MA']/df['MA'].shift(1))\n",
    "df.head(15)"
   ]
  },
  {
   "cell_type": "code",
   "execution_count": 4,
   "metadata": {},
   "outputs": [
    {
     "output_type": "execute_result",
     "data": {
      "text/plain": "                        HLAvg        MA   Returns\nDate                                             \n2010-01-01 00:22:00  1.616650  1.616690 -0.000003\n2010-01-01 00:23:00  1.616635  1.616683 -0.000005\n2010-01-01 00:24:00  1.616640  1.616676 -0.000004\n2010-01-01 00:25:00  1.616650  1.616676  0.000000\n2010-01-01 00:26:00  1.616660  1.616679  0.000002\n...                       ...       ...       ...\n2020-09-04 20:55:00  1.327765  1.327645  0.000006\n2020-09-04 20:56:00  1.328065  1.327686  0.000031\n2020-09-04 20:57:00  1.328145  1.327736  0.000038\n2020-09-04 20:58:00  1.328010  1.327777  0.000031\n2020-09-04 20:59:00  1.327775  1.327797  0.000015\n\n[3992800 rows x 3 columns]",
      "text/html": "<div>\n<style scoped>\n    .dataframe tbody tr th:only-of-type {\n        vertical-align: middle;\n    }\n\n    .dataframe tbody tr th {\n        vertical-align: top;\n    }\n\n    .dataframe thead th {\n        text-align: right;\n    }\n</style>\n<table border=\"1\" class=\"dataframe\">\n  <thead>\n    <tr style=\"text-align: right;\">\n      <th></th>\n      <th>HLAvg</th>\n      <th>MA</th>\n      <th>Returns</th>\n    </tr>\n    <tr>\n      <th>Date</th>\n      <th></th>\n      <th></th>\n      <th></th>\n    </tr>\n  </thead>\n  <tbody>\n    <tr>\n      <th>2010-01-01 00:22:00</th>\n      <td>1.616650</td>\n      <td>1.616690</td>\n      <td>-0.000003</td>\n    </tr>\n    <tr>\n      <th>2010-01-01 00:23:00</th>\n      <td>1.616635</td>\n      <td>1.616683</td>\n      <td>-0.000005</td>\n    </tr>\n    <tr>\n      <th>2010-01-01 00:24:00</th>\n      <td>1.616640</td>\n      <td>1.616676</td>\n      <td>-0.000004</td>\n    </tr>\n    <tr>\n      <th>2010-01-01 00:25:00</th>\n      <td>1.616650</td>\n      <td>1.616676</td>\n      <td>0.000000</td>\n    </tr>\n    <tr>\n      <th>2010-01-01 00:26:00</th>\n      <td>1.616660</td>\n      <td>1.616679</td>\n      <td>0.000002</td>\n    </tr>\n    <tr>\n      <th>...</th>\n      <td>...</td>\n      <td>...</td>\n      <td>...</td>\n    </tr>\n    <tr>\n      <th>2020-09-04 20:55:00</th>\n      <td>1.327765</td>\n      <td>1.327645</td>\n      <td>0.000006</td>\n    </tr>\n    <tr>\n      <th>2020-09-04 20:56:00</th>\n      <td>1.328065</td>\n      <td>1.327686</td>\n      <td>0.000031</td>\n    </tr>\n    <tr>\n      <th>2020-09-04 20:57:00</th>\n      <td>1.328145</td>\n      <td>1.327736</td>\n      <td>0.000038</td>\n    </tr>\n    <tr>\n      <th>2020-09-04 20:58:00</th>\n      <td>1.328010</td>\n      <td>1.327777</td>\n      <td>0.000031</td>\n    </tr>\n    <tr>\n      <th>2020-09-04 20:59:00</th>\n      <td>1.327775</td>\n      <td>1.327797</td>\n      <td>0.000015</td>\n    </tr>\n  </tbody>\n</table>\n<p>3992800 rows × 3 columns</p>\n</div>"
     },
     "metadata": {},
     "execution_count": 4
    }
   ],
   "source": [
    "df.dropna(how='any', inplace=True)\n",
    "df = df[df.shape[0] % batch_size:]\n",
    "df"
   ]
  },
  {
   "cell_type": "code",
   "execution_count": 5,
   "metadata": {
    "tags": []
   },
   "outputs": [
    {
     "output_type": "stream",
     "name": "stdout",
     "text": "df_train.shape (3468512, 3), df_validation.shape (262400, 3), df_test.shape (262400, 3)\n"
    }
   ],
   "source": [
    "df_train = df[:- validation_size - test_size]\n",
    "df_validation = df[- validation_size - test_size - window_size:- test_size]\n",
    "df_test = df[- test_size - window_size:]\n",
    "print(f'df_train.shape {df_train.shape}, df_validation.shape {df_validation.shape}, df_test.shape {df_test.shape}')"
   ]
  },
  {
   "cell_type": "code",
   "execution_count": 6,
   "metadata": {},
   "outputs": [],
   "source": [
    "df_train.to_csv(train_time_series_path)\n",
    "df_validation.to_csv(validate_time_series_path)\n",
    "df_test.to_csv(test_time_series_path)"
   ]
  }
 ]
}